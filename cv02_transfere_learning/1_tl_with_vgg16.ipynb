{
  "nbformat": 4,
  "nbformat_minor": 0,
  "metadata": {
    "colab": {
      "name": "1.tl with vgg16.ipynb",
      "provenance": [],
      "authorship_tag": "ABX9TyPSR8e2QcZILXYlgHsov6cm",
      "include_colab_link": true
    },
    "kernelspec": {
      "name": "python3",
      "display_name": "Python 3"
    },
    "language_info": {
      "name": "python"
    }
  },
  "cells": [
    {
      "cell_type": "markdown",
      "metadata": {
        "id": "view-in-github",
        "colab_type": "text"
      },
      "source": [
        "<a href=\"https://colab.research.google.com/github/Rekidiang2/Rekidiang2/blob/main/cv02_transfere_learning/1_tl_with_vgg16.ipynb\" target=\"_parent\"><img src=\"https://colab.research.google.com/assets/colab-badge.svg\" alt=\"Open In Colab\"/></a>"
      ]
    },
    {
      "cell_type": "markdown",
      "source": [
        "# Transfere Learning with VGG16"
      ],
      "metadata": {
        "id": "SC3XcUb4RhMw"
      }
    },
    {
      "cell_type": "markdown",
      "source": [
        "+ [6 Open Source Data Science Projects to Impress your Interviewer](https://www.analyticsvidhya.com/blog/2020/06/6-open-source-data-science-projects-interviewer/)\n",
        "+ [A Newbie-Friendly Guide to Transfer Learning](https://www.v7labs.com/blog/transfer-learning-guide)\n",
        "+ [Transfer Learning with VGG16 and Keras](https://towardsdatascience.com/transfer-learning-with-vgg16-and-keras-50ea161580b4)"
      ],
      "metadata": {
        "id": "OF6CWyVpRubz"
      }
    },
    {
      "cell_type": "code",
      "execution_count": 1,
      "metadata": {
        "id": "vgo8Ae0BRX8M",
        "colab": {
          "base_uri": "https://localhost:8080/"
        },
        "outputId": "dda7b352-a478-41da-fd86-6701fb4c63a3"
      },
      "outputs": [
        {
          "output_type": "stream",
          "name": "stdout",
          "text": [
            "a demain\n"
          ]
        }
      ],
      "source": [
        "print(\"a demain\")"
      ]
    },
    {
      "cell_type": "code",
      "source": [
        ""
      ],
      "metadata": {
        "id": "mE0pOq39Xje4"
      },
      "execution_count": null,
      "outputs": []
    }
  ]
}